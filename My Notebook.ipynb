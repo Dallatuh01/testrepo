{
 "cells": [
  {
   "cell_type": "markdown",
   "id": "cb037336",
   "metadata": {},
   "source": [
    "Exercise 2:\n",
    "   MY NOTEBOOK"
   ]
  },
  {
   "cell_type": "markdown",
   "id": "7baff646",
   "metadata": {},
   "source": [
    "Exercise 3:\n",
    "   This is my peer graded assignment"
   ]
  },
  {
   "cell_type": "markdown",
   "id": "79a467f3",
   "metadata": {},
   "source": [
    "Exercise 4:\n",
    "  List of Data Science Languages\n",
    "1. Python\n",
    "2. R\n",
    "3. SQL\n",
    "4. Julia\n",
    "5. Scala\n",
    "6. SAS\n",
    "7. MATLAB"
   ]
  },
  {
   "cell_type": "markdown",
   "id": "2e49f729",
   "metadata": {},
   "source": [
    "Exercise 5:\n",
    "   List of Data Science ibraries\n",
    "1. NumPy\n",
    "2. Pandas \n",
    "3. Matplotlib\n",
    "4. Seaborn\n",
    "5. Scikit-learn\n",
    "6. TensorFlow\n",
    "7. Keras\n",
    "8. PyTorch\n",
    "9. SciPyem\n",
    "10. Statsmodels"
   ]
  },
  {
   "cell_type": "markdown",
   "id": "3ef213b4",
   "metadata": {},
   "source": [
    "Exercise 6:\n",
    "    A Table of Data Science Tools\n"
   ]
  },
  {
   "cell_type": "markdown",
   "id": "eeef3bd4",
   "metadata": {},
   "source": [
    "| Tool | Description | Website |\n",
    "| ---------- | --------- | ------- |\n",
    "| Jupyter | Interactive computing and data visualization | jupyter.org |\n",
    "| RStudio | Integrated development environment for R | rstudio.com |\n",
    "| VS Code | Versatile code editor with extensions support | code.visualstudio.com |\n",
    "| Tableau | Data visualization and business intelligence | tableau.com |\n",
    "| Excel | Spreadsheet software for data analysis | office.com/excel |\n",
    "| KNIME | Open-source platform for data analytics | knime.com |\n",
    "| RapidMiner | Data science platform with visual workflows | rapidminer.com |\n",
    "| Apache Spark | Fast cluster computing system | spark.apache.org |\n",
    "| Weka | Collection of machine learning algorithms | weka.waikato.ac.nz |\n",
    "| Orange | Open-source data visualization and analysis | orange.biolab.si |\n",
    "| IBM Watson | AI-powered data analytics and ML platform | ibm.com/cloud/watson |\n",
    "| D3.js | JavaScript library for interactive data visual | d3js.org |\n",
    "| MATLAB | Numerical computing and simulation software | - |\n",
    "| Keras | High-level neural networks API | - |\n",
    "| Power BI | Data analysis and business intelligence tool by Microsoft | - |\n",
    "| XGBoost | Gradient boosting library for Python | - |"
   ]
  },
  {
   "cell_type": "markdown",
   "id": "ce1e4d15",
   "metadata": {},
   "source": [
    "Exercise 7:\n",
    "    Introducing Arithmetic Expression Examples"
   ]
  },
  {
   "cell_type": "markdown",
   "id": "37d56f66",
   "metadata": {},
   "source": [
    "1. Addition (+):\n",
    "    example: 5+3 = 8\n",
    "2. Subtraction (-):\n",
    "    example: 10-5 = 5\n",
    "3. Multiplication (*):\n",
    "    example: 4*3 = 12\n",
    "4. Division (/):\n",
    "    example: 15/3 = 5\n",
    "5. Exponentiation ()**: \n",
    "    example: 2 ** 3 = 8\n",
    "6. Modulo (%): \n",
    "     example: 10 % 3 = 1"
   ]
  },
  {
   "cell_type": "markdown",
   "id": "b5f9ea82",
   "metadata": {},
   "source": [
    "Exercise 8:\n",
    "   Multiply and Add Numbers"
   ]
  },
  {
   "cell_type": "code",
   "execution_count": 3,
   "id": "342da7d9",
   "metadata": {},
   "outputs": [
    {
     "name": "stdout",
     "output_type": "stream",
     "text": [
      "Multiplication Result: 50\n",
      "Addition Result: 35\n"
     ]
    }
   ],
   "source": [
    "# Multiplication\n",
    "num1 = 5\n",
    "num2 = 10\n",
    "result_multiply = num1 * num2\n",
    "\n",
    "print(\"Multiplication Result:\", result_multiply)\n",
    "\n",
    "# Addition\n",
    "num3 = 15\n",
    "num4 = 20\n",
    "result_add = num3 + num4\n",
    "\n",
    "print(\"Addition Result:\", result_add)\n"
   ]
  },
  {
   "cell_type": "markdown",
   "id": "fee80e19",
   "metadata": {},
   "source": [
    "Exercise 9:\n",
    "    Convert Minutes to Hours"
   ]
  },
  {
   "cell_type": "code",
   "execution_count": 5,
   "id": "c7c640b2",
   "metadata": {},
   "outputs": [
    {
     "name": "stdout",
     "output_type": "stream",
     "text": [
      "180 minutes is equal to 3.00 hours.\n"
     ]
    }
   ],
   "source": [
    "def minutes_to_hours(minutes):\n",
    "    hours = minutes / 60\n",
    "    return hours\n",
    "\n",
    "# Test the function\n",
    "minutes = 180\n",
    "hours_result = minutes_to_hours(minutes)\n",
    "print(f\"{minutes} minutes is equal to {hours_result:.2f} hours.\")\n"
   ]
  },
  {
   "cell_type": "markdown",
   "id": "fa8f48b0",
   "metadata": {},
   "source": [
    "Exercise 10: \n",
    "    Insert a List of Objectives"
   ]
  },
  {
   "cell_type": "markdown",
   "id": "7832cfa2",
   "metadata": {},
   "source": [
    "1. Data Collection\n",
    "2. Data Cleaning and Preprocessing\n",
    "3. Exploratory Data Analysis (EDA)\n",
    "4. Feature Engineering\n",
    "5. Model Development\n",
    "6. Model Evaluation\n",
    "7. Insights and Recommendations\n",
    "8. Deployment and Implementation\n",
    "9. Continuous Improvement"
   ]
  },
  {
   "cell_type": "markdown",
   "id": "489af628",
   "metadata": {},
   "source": [
    "Exercise 11:\n",
    "    Author’s name"
   ]
  },
  {
   "cell_type": "markdown",
   "id": "e9790416",
   "metadata": {},
   "source": [
    "Jibrin Abdullahi Dallatu"
   ]
  },
  {
   "cell_type": "code",
   "execution_count": null,
   "id": "bc42ea51",
   "metadata": {},
   "outputs": [],
   "source": []
  }
 ],
 "metadata": {
  "kernelspec": {
   "display_name": "Python 3 (ipykernel)",
   "language": "python",
   "name": "python3"
  },
  "language_info": {
   "codemirror_mode": {
    "name": "ipython",
    "version": 3
   },
   "file_extension": ".py",
   "mimetype": "text/x-python",
   "name": "python",
   "nbconvert_exporter": "python",
   "pygments_lexer": "ipython3",
   "version": "3.9.12"
  }
 },
 "nbformat": 4,
 "nbformat_minor": 5
}
